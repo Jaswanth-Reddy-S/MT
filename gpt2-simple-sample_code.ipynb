{
  "nbformat": 4,
  "nbformat_minor": 0,
  "metadata": {
    "colab": {
      "name": "Untitled115.ipynb",
      "provenance": [],
      "authorship_tag": "ABX9TyNKWqodKtyJcpmTLhyot4j9",
      "include_colab_link": true
    },
    "kernelspec": {
      "name": "python3",
      "display_name": "Python 3"
    },
    "language_info": {
      "name": "python"
    }
  },
  "cells": [
    {
      "cell_type": "markdown",
      "metadata": {
        "id": "view-in-github",
        "colab_type": "text"
      },
      "source": [
        "<a href=\"https://colab.research.google.com/github/Jaswanth-Reddy-S/MT/blob/master/gpt2-simple-sample_code.ipynb\" target=\"_parent\"><img src=\"https://colab.research.google.com/assets/colab-badge.svg\" alt=\"Open In Colab\"/></a>"
      ]
    },
    {
      "cell_type": "code",
      "metadata": {
        "colab": {
          "base_uri": "https://localhost:8080/"
        },
        "id": "GrxvY7L_zieK",
        "outputId": "baaa63e5-847e-48a8-8415-59cb003b8ad3"
      },
      "source": [
        "%tensorflow_version 1.x\n"
      ],
      "execution_count": 1,
      "outputs": [
        {
          "output_type": "stream",
          "text": [
            "TensorFlow 1.x selected.\n"
          ],
          "name": "stdout"
        }
      ]
    },
    {
      "cell_type": "code",
      "metadata": {
        "colab": {
          "base_uri": "https://localhost:8080/"
        },
        "id": "VKqmGN1Yzre9",
        "outputId": "9818800c-5e8e-4df8-ab8e-c2d21ec81602"
      },
      "source": [
        "pip install -q gpt-2-simple\n"
      ],
      "execution_count": 2,
      "outputs": [
        {
          "output_type": "stream",
          "text": [
            "  Building wheel for gpt-2-simple (setup.py) ... \u001b[?25l\u001b[?25hdone\n"
          ],
          "name": "stdout"
        }
      ]
    },
    {
      "cell_type": "code",
      "metadata": {
        "colab": {
          "base_uri": "https://localhost:8080/"
        },
        "id": "NU2lsdBjzt0-",
        "outputId": "bcfa2978-c5b0-4be2-fd97-b02b473616e3"
      },
      "source": [
        "import gpt_2_simple as gpt2\n",
        "from datetime import datetime\n",
        "from google.colab import files"
      ],
      "execution_count": 3,
      "outputs": [
        {
          "output_type": "stream",
          "text": [
            "WARNING:tensorflow:\n",
            "The TensorFlow contrib module will not be included in TensorFlow 2.0.\n",
            "For more information, please see:\n",
            "  * https://github.com/tensorflow/community/blob/master/rfcs/20180907-contrib-sunset.md\n",
            "  * https://github.com/tensorflow/addons\n",
            "  * https://github.com/tensorflow/io (for I/O related ops)\n",
            "If you depend on functionality not listed there, please file an issue.\n",
            "\n"
          ],
          "name": "stdout"
        }
      ]
    },
    {
      "cell_type": "code",
      "metadata": {
        "colab": {
          "base_uri": "https://localhost:8080/"
        },
        "id": "xb5u3M7pzucZ",
        "outputId": "29c59126-7a9f-4871-b661-3d4f2b50e3a0"
      },
      "source": [
        "model_name = \"774M\"\n",
        "\n",
        "gpt2.download_gpt2(model_name=model_name)"
      ],
      "execution_count": 4,
      "outputs": [
        {
          "output_type": "stream",
          "text": [
            "Fetching checkpoint: 1.05Mit [00:00, 267Mit/s]                                                      \n",
            "Fetching encoder.json: 1.05Mit [00:00, 2.16Mit/s]\n",
            "Fetching hparams.json: 1.05Mit [00:00, 219Mit/s]                                                    \n",
            "Fetching model.ckpt.data-00000-of-00001: 3.10Git [09:55, 5.20Mit/s]\n",
            "Fetching model.ckpt.index: 1.05Mit [00:00, 207Mit/s]                                                \n",
            "Fetching model.ckpt.meta: 2.10Mit [00:00, 3.99Mit/s]                                                \n",
            "Fetching vocab.bpe: 1.05Mit [00:00, 3.28Mit/s]\n"
          ],
          "name": "stderr"
        }
      ]
    },
    {
      "cell_type": "code",
      "metadata": {
        "colab": {
          "base_uri": "https://localhost:8080/"
        },
        "id": "GL3WxJaZz4eI",
        "outputId": "954ed3f1-4e41-4556-f7fa-9fcea0963575"
      },
      "source": [
        "sess = gpt2.start_tf_sess()\n",
        "\n",
        "gpt2.load_gpt2(sess, model_name=model_name)"
      ],
      "execution_count": 5,
      "outputs": [
        {
          "output_type": "stream",
          "text": [
            "Loading pretrained model models/774M/model.ckpt\n",
            "INFO:tensorflow:Restoring parameters from models/774M/model.ckpt\n"
          ],
          "name": "stdout"
        }
      ]
    },
    {
      "cell_type": "code",
      "metadata": {
        "colab": {
          "base_uri": "https://localhost:8080/"
        },
        "id": "t89DOxZaz8CS",
        "outputId": "177c1c90-d98b-4dbc-9b30-37a5ba437ca2"
      },
      "source": [
        "gpt2.generate(sess,\n",
        "              model_name=model_name,\n",
        "              prefix=\"The secret of life is\",\n",
        "              length=100,\n",
        "              temperature=0.7,\n",
        "              top_p=0.9,\n",
        "              nsamples=5,\n",
        "              batch_size=5\n",
        "              )"
      ],
      "execution_count": 6,
      "outputs": [
        {
          "output_type": "stream",
          "text": [
            "WARNING:tensorflow:From /usr/local/lib/python3.7/dist-packages/gpt_2_simple/src/sample.py:32: where (from tensorflow.python.ops.array_ops) is deprecated and will be removed in a future version.\n",
            "Instructions for updating:\n",
            "Use tf.where in 2.0, which has the same broadcast rule as np.where\n",
            "The secret of life is the ability to change one's mind. If you are willing to change your mind, you will change your life.\n",
            "\n",
            "- Martin Luther King Jr.\n",
            "\n",
            "The secret of life is the ability to change one's mind. If you are willing to change your mind, you will change your life.\n",
            "\n",
            "- Martin Luther King Jr.\n",
            "\n",
            "Forget about life and all the things you've got to do, and focus on your work. The only thing that matters is what you do\n",
            "====================\n",
            "The secret of life is that the organism is not a static entity, but a dynamic one.\n",
            "\n",
            "It is not as simple as an atom, a cell or a molecule. It is more complex than that. The molecules of life are the components of a whole, but they are not the whole. The whole is not the sum of the parts.\n",
            "\n",
            "It is not as simple as an atom, a cell or a molecule. It is more complex than that. The molecules of life are the components of a whole\n",
            "====================\n",
            "The secret of life is to be, not to be found. But to be found is to have something to give, something to give in return.\n",
            "\n",
            "That is the secret of life.\n",
            "\n",
            "So, take your life back.<|endoftext|>This is a rush transcript. Copy may not be in its final form.\n",
            "\n",
            "AMY GOODMAN: We're on the road in New York City, as we continue our conversation about the criminal justice system. We're going to join us from the J. Paul Getty Museum in Los\n",
            "====================\n",
            "The secret of life is in the molecule of life, and the molecule of life is oxygen. The molecule of life is oxygen. And the molecule of life is oxygen. And the molecule of life is oxygen. And the molecule of life is oxygen. And the molecule of life is oxygen. And the molecule of life is oxygen. And the molecule of life is oxygen. And the molecule of life is oxygen. And the molecule of life is oxygen. And the molecule of life is oxygen. And the molecule of life is oxygen\n",
            "====================\n",
            "The secret of life is to enjoy life,\" he says.\n",
            "\n",
            "\"I love life. I love being here. I'm enjoying it. I enjoy what I do. I enjoy the people I work with. I enjoy the people around me. I enjoy the people around me.\"\n",
            "\n",
            "When the spotlight is on, he says, he's very focused.\n",
            "\n",
            "\"I think it's a lot easier to look at things from the outside when you're in the spotlight,\" he says. \"I think I can\n",
            "====================\n"
          ],
          "name": "stdout"
        }
      ]
    },
    {
      "cell_type": "code",
      "metadata": {
        "id": "VwYB_tOR2WKo"
      },
      "source": [
        ""
      ],
      "execution_count": null,
      "outputs": []
    }
  ]
}